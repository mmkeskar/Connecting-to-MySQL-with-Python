{
 "cells": [
  {
   "cell_type": "markdown",
   "metadata": {},
   "source": [
    "The reference used for this python file is <br> https://realpython.com/python-sql-libraries/"
   ]
  },
  {
   "cell_type": "markdown",
   "metadata": {},
   "source": [
    "# Import Relevant Libraries"
   ]
  },
  {
   "cell_type": "code",
   "execution_count": 1,
   "metadata": {},
   "outputs": [],
   "source": [
    "import mysql.connector\n",
    "from mysql.connector import Error"
   ]
  },
  {
   "cell_type": "markdown",
   "metadata": {},
   "source": [
    "# Function that creates a connection to the server"
   ]
  },
  {
   "cell_type": "code",
   "execution_count": 2,
   "metadata": {},
   "outputs": [
    {
     "name": "stdout",
     "output_type": "stream",
     "text": [
      "Connection to MySQL DB successful\n"
     ]
    }
   ],
   "source": [
    "def create_connection(host_name, user_name, user_password):\n",
    "    connection = None\n",
    "    try:\n",
    "        connection = mysql.connector.connect(\n",
    "            host = host_name,\n",
    "            user = user_name,\n",
    "            passwd = user_password\n",
    "        )\n",
    "        print(\"Connection to MySQL DB successful\")\n",
    "    except Error as e:\n",
    "        print(f\"The error '{e}' occured\")\n",
    "    \n",
    "    return connection\n",
    "\n",
    "connection = create_connection(\"localhost\", \"root\", \"!)@QPWalsMai\")"
   ]
  },
  {
   "cell_type": "markdown",
   "metadata": {},
   "source": [
    "# Function to create the database"
   ]
  },
  {
   "cell_type": "code",
   "execution_count": 3,
   "metadata": {},
   "outputs": [],
   "source": [
    "def create_database(connection, query):\n",
    "    cursor = connection.cursor()\n",
    "    try:\n",
    "        cursor.execute(query)\n",
    "        print(\"Database created successfully\")\n",
    "    except Error as e:\n",
    "        print(f\"The error '{e}' has occurred\")"
   ]
  },
  {
   "cell_type": "markdown",
   "metadata": {},
   "source": [
    "### Write the query"
   ]
  },
  {
   "cell_type": "code",
   "execution_count": 4,
   "metadata": {},
   "outputs": [
    {
     "name": "stdout",
     "output_type": "stream",
     "text": [
      "Connection to MySQL DB successful\n"
     ]
    }
   ],
   "source": [
    "connection = create_connection('localhost', 'root', '!)@QPWalsMai')"
   ]
  },
  {
   "cell_type": "code",
   "execution_count": 6,
   "metadata": {},
   "outputs": [
    {
     "name": "stdout",
     "output_type": "stream",
     "text": [
      "Database created successfully\n"
     ]
    }
   ],
   "source": [
    "create_database_query = \"CREATE DATABASE sm_app\"\n",
    "create_database(connection, create_database_query)"
   ]
  },
  {
   "cell_type": "markdown",
   "metadata": {},
   "source": [
    "Modify the create_connection function to connect to the database"
   ]
  },
  {
   "cell_type": "code",
   "execution_count": 9,
   "metadata": {},
   "outputs": [
    {
     "name": "stdout",
     "output_type": "stream",
     "text": [
      "Connection to MySQL DB successful\n"
     ]
    }
   ],
   "source": [
    "def create_connection(host_name, user_name, user_password, db_name):\n",
    "    connection = None\n",
    "    try:\n",
    "        connection = mysql.connector.connect(\n",
    "            host = host_name,\n",
    "            user = user_name,\n",
    "            passwd = user_password,\n",
    "            database = db_name\n",
    "        )\n",
    "        print(\"Connection to MySQL DB successful\")\n",
    "    except Error as e:\n",
    "        print(f\"The error '{e}' occured\")\n",
    "    \n",
    "    return connection\n",
    "\n",
    "connection = create_connection(\"localhost\", \"root\", \"!)@QPWalsMai\", \"sm_app\")"
   ]
  },
  {
   "cell_type": "markdown",
   "metadata": {},
   "source": [
    "### Write a function to execute a query"
   ]
  },
  {
   "cell_type": "code",
   "execution_count": 10,
   "metadata": {},
   "outputs": [],
   "source": [
    "def execute_query(connection, query):\n",
    "    cursor = connection.cursor()\n",
    "    try:\n",
    "        cursor.execute(query)\n",
    "        connection.commit()\n",
    "        print(\"query executed successfully\")\n",
    "    except Error as e:\n",
    "        print(f\"The error '{e}' has occurred\")"
   ]
  },
  {
   "cell_type": "code",
   "execution_count": 15,
   "metadata": {},
   "outputs": [
    {
     "name": "stdout",
     "output_type": "stream",
     "text": [
      "query executed successfully\n"
     ]
    }
   ],
   "source": [
    "query_to_create_table = \"\"\"\n",
    "CREATE TABLE users(\n",
    "id INT AUTO_INCREMENT,\n",
    "first_name VARCHAR(50),\n",
    "last_name VARCHAR(50),\n",
    "num_friends INT,\n",
    "register_date DATE,\n",
    "is_active TINYINT(1),\n",
    "phone BIGINT,\n",
    "PRIMARY KEY(id)\n",
    ")\"\"\"\n",
    "execute_query(connection, query_to_create_table)"
   ]
  },
  {
   "cell_type": "code",
   "execution_count": 16,
   "metadata": {},
   "outputs": [
    {
     "name": "stdout",
     "output_type": "stream",
     "text": [
      "query executed successfully\n"
     ]
    }
   ],
   "source": [
    "create_users = \"\"\"\n",
    "INSERT INTO users (\n",
    "first_name, last_name, num_friends, register_date, is_active, phone)\n",
    "VALUES \n",
    "       ('Jason', 'Smith', 34, '2019-03-23', 0, 6509329842),\n",
    "       ('Gabrielle', 'Red', 100, '2017-01-10', 1, 6459376372),\n",
    "       ('Amanda', 'Green', 400, '2010-04-24', 1, 4569847839),\n",
    "       ('Rosa', 'Brushfield', 65, '2020-01-02', 0, 3675649876),\n",
    "       ('David', 'Bones', 450, '2010-02-01', 1, 4673562345),\n",
    "       ('Harris', 'McFreey', 300, '2016-03-04', 0, 4678567365)\n",
    "\"\"\"\n",
    "execute_query(connection, create_users)"
   ]
  },
  {
   "cell_type": "markdown",
   "metadata": {},
   "source": [
    "### Write a Function to Read Data from the Database"
   ]
  },
  {
   "cell_type": "code",
   "execution_count": 17,
   "metadata": {},
   "outputs": [],
   "source": [
    "def execute_read_query(connection, query):\n",
    "    cursor = connection.cursor()\n",
    "    try:\n",
    "        cursor.execute(query)\n",
    "        results = cursor.fetchall()\n",
    "        return results\n",
    "    except Error as e:\n",
    "        print(f\"The error '{e}' has occurred\")"
   ]
  },
  {
   "cell_type": "code",
   "execution_count": 21,
   "metadata": {},
   "outputs": [
    {
     "name": "stdout",
     "output_type": "stream",
     "text": [
      "(1, 'Jason', 'Smith', 34, datetime.date(2019, 3, 23), 0, 6509329842)\n",
      "(2, 'Gabrielle', 'Red', 100, datetime.date(2017, 1, 10), 1, 6459376372)\n",
      "(3, 'Amanda', 'Green', 400, datetime.date(2010, 4, 24), 1, 4569847839)\n",
      "(4, 'Rosa', 'Brushfield', 65, datetime.date(2020, 1, 2), 0, 3675649876)\n",
      "(5, 'David', 'Bones', 450, datetime.date(2010, 2, 1), 1, 4673562345)\n",
      "(6, 'Harris', 'McFreey', 300, datetime.date(2016, 3, 4), 0, 4678567365)\n"
     ]
    }
   ],
   "source": [
    "read_query = \"SELECT * FROM users\"\n",
    "table = execute_read_query(connection, read_query)\n",
    "for user in table:\n",
    "    print(user)"
   ]
  },
  {
   "cell_type": "markdown",
   "metadata": {},
   "source": [
    "Now we want to convert this data that we just printed to a Pandas DataFrame. <br>\n",
    "Reference: https://datascience.stackexchange.com/questions/26333/convert-a-list-of-lists-into-a-pandas-dataframe"
   ]
  },
  {
   "cell_type": "code",
   "execution_count": 30,
   "metadata": {},
   "outputs": [],
   "source": [
    "import pandas as pd\n",
    "\n",
    "df = pd.DataFrame(table, columns = \n",
    "                  ['Id', 'First Name', 'Last Name', \n",
    "                   'Number of Friends', 'Registration Date', 'Active', 'Phone'])"
   ]
  },
  {
   "cell_type": "code",
   "execution_count": 31,
   "metadata": {},
   "outputs": [
    {
     "data": {
      "text/html": [
       "<div>\n",
       "<style scoped>\n",
       "    .dataframe tbody tr th:only-of-type {\n",
       "        vertical-align: middle;\n",
       "    }\n",
       "\n",
       "    .dataframe tbody tr th {\n",
       "        vertical-align: top;\n",
       "    }\n",
       "\n",
       "    .dataframe thead th {\n",
       "        text-align: right;\n",
       "    }\n",
       "</style>\n",
       "<table border=\"1\" class=\"dataframe\">\n",
       "  <thead>\n",
       "    <tr style=\"text-align: right;\">\n",
       "      <th></th>\n",
       "      <th>First Name</th>\n",
       "      <th>Last Name</th>\n",
       "      <th>Number of Friends</th>\n",
       "      <th>Registration Date</th>\n",
       "      <th>Active</th>\n",
       "      <th>Phone</th>\n",
       "    </tr>\n",
       "    <tr>\n",
       "      <th>Id</th>\n",
       "      <th></th>\n",
       "      <th></th>\n",
       "      <th></th>\n",
       "      <th></th>\n",
       "      <th></th>\n",
       "      <th></th>\n",
       "    </tr>\n",
       "  </thead>\n",
       "  <tbody>\n",
       "    <tr>\n",
       "      <td>1</td>\n",
       "      <td>Jason</td>\n",
       "      <td>Smith</td>\n",
       "      <td>34</td>\n",
       "      <td>2019-03-23</td>\n",
       "      <td>0</td>\n",
       "      <td>6509329842</td>\n",
       "    </tr>\n",
       "    <tr>\n",
       "      <td>2</td>\n",
       "      <td>Gabrielle</td>\n",
       "      <td>Red</td>\n",
       "      <td>100</td>\n",
       "      <td>2017-01-10</td>\n",
       "      <td>1</td>\n",
       "      <td>6459376372</td>\n",
       "    </tr>\n",
       "    <tr>\n",
       "      <td>3</td>\n",
       "      <td>Amanda</td>\n",
       "      <td>Green</td>\n",
       "      <td>400</td>\n",
       "      <td>2010-04-24</td>\n",
       "      <td>1</td>\n",
       "      <td>4569847839</td>\n",
       "    </tr>\n",
       "    <tr>\n",
       "      <td>4</td>\n",
       "      <td>Rosa</td>\n",
       "      <td>Brushfield</td>\n",
       "      <td>65</td>\n",
       "      <td>2020-01-02</td>\n",
       "      <td>0</td>\n",
       "      <td>3675649876</td>\n",
       "    </tr>\n",
       "    <tr>\n",
       "      <td>5</td>\n",
       "      <td>David</td>\n",
       "      <td>Bones</td>\n",
       "      <td>450</td>\n",
       "      <td>2010-02-01</td>\n",
       "      <td>1</td>\n",
       "      <td>4673562345</td>\n",
       "    </tr>\n",
       "    <tr>\n",
       "      <td>6</td>\n",
       "      <td>Harris</td>\n",
       "      <td>McFreey</td>\n",
       "      <td>300</td>\n",
       "      <td>2016-03-04</td>\n",
       "      <td>0</td>\n",
       "      <td>4678567365</td>\n",
       "    </tr>\n",
       "  </tbody>\n",
       "</table>\n",
       "</div>"
      ],
      "text/plain": [
       "   First Name   Last Name  Number of Friends Registration Date  Active  \\\n",
       "Id                                                                       \n",
       "1       Jason       Smith                 34        2019-03-23       0   \n",
       "2   Gabrielle         Red                100        2017-01-10       1   \n",
       "3      Amanda       Green                400        2010-04-24       1   \n",
       "4        Rosa  Brushfield                 65        2020-01-02       0   \n",
       "5       David       Bones                450        2010-02-01       1   \n",
       "6      Harris     McFreey                300        2016-03-04       0   \n",
       "\n",
       "         Phone  \n",
       "Id              \n",
       "1   6509329842  \n",
       "2   6459376372  \n",
       "3   4569847839  \n",
       "4   3675649876  \n",
       "5   4673562345  \n",
       "6   4678567365  "
      ]
     },
     "execution_count": 31,
     "metadata": {},
     "output_type": "execute_result"
    }
   ],
   "source": [
    "df.set_index('Id')"
   ]
  },
  {
   "cell_type": "code",
   "execution_count": null,
   "metadata": {},
   "outputs": [],
   "source": []
  }
 ],
 "metadata": {
  "kernelspec": {
   "display_name": "Python 3",
   "language": "python",
   "name": "python3"
  },
  "language_info": {
   "codemirror_mode": {
    "name": "ipython",
    "version": 3
   },
   "file_extension": ".py",
   "mimetype": "text/x-python",
   "name": "python",
   "nbconvert_exporter": "python",
   "pygments_lexer": "ipython3",
   "version": "3.7.4"
  }
 },
 "nbformat": 4,
 "nbformat_minor": 2
}
